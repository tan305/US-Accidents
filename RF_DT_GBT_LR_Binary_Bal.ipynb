{
 "cells": [
  {
   "cell_type": "code",
   "execution_count": 1,
   "metadata": {},
   "outputs": [],
   "source": [
    "from pyspark.sql import SparkSession\n",
    "from pyspark.sql import Row\n",
    "import numpy as np\n",
    "import pandas as pd\n",
    "from pyspark.sql.types import *\n",
    "from pyspark.sql.functions import *\n",
    "import matplotlib.pyplot as plt\n",
    "from pyspark.sql import functions as fn\n",
    "from pyspark.ml import feature, regression, evaluation, Pipeline\n",
    "import seaborn as sns\n",
    "from pyspark.ml.feature import VectorAssembler\n",
    "from pyspark.ml import Pipeline\n",
    "from pyspark.ml.regression import LinearRegression\n",
    "from pyspark.ml.stat import Correlation\n",
    "from pyspark.ml.feature import VectorAssembler\n",
    "from pyspark.ml.classification import RandomForestClassifier\n",
    "from pyspark.ml.classification import LogisticRegression,RandomForestClassifier\n",
    "from pyspark.ml.classification import GBTClassifier\n",
    "from pyspark.ml.evaluation import BinaryClassificationEvaluator\n",
    "from pyspark.ml.classification import DecisionTreeClassifier\n",
    "from pyspark.ml.tuning import CrossValidator, ParamGridBuilder\n",
    "from pyspark.ml.classification import LogisticRegression\n",
    "from pyspark.ml import Pipeline\n",
    "from pyspark.ml.evaluation import BinaryClassificationEvaluator\n",
    "from pyspark.ml.feature import OneHotEncoder, OneHotEncoderModel, StringIndexer, VectorAssembler\n",
    "spark = SparkSession.builder.getOrCreate()\n",
    "sc = spark.sparkContext\n"
   ]
  },
  {
   "cell_type": "code",
   "execution_count": 2,
   "metadata": {},
   "outputs": [],
   "source": [
    "# Do not delete or change this cell\n",
    "\n",
    "import os\n",
    "\n",
    "# Define a function to determine if we are running on data bricks\n",
    "# Return true if running in the data bricks environment, false otherwise\n",
    "def is_databricks():\n",
    "    # get the databricks runtime version\n",
    "    db_env = os.getenv(\"DATABRICKS_RUNTIME_VERSION\")\n",
    "    \n",
    "    # if running on data bricks\n",
    "    if db_env != None:\n",
    "        return True\n",
    "    else:\n",
    "        return False\n",
    "\n",
    "# Define a function to read the data file.  The full path data file name is constructed\n",
    "# by checking runtime environment variables to determine if the runtime environment is \n",
    "# databricks, or a student's personal computer.  The full path file name is then\n",
    "# constructed based on the runtime env.\n",
    "# \n",
    "# Params\n",
    "#   data_file_name: The base name of the data file to load\n",
    "# \n",
    "# Returns the full path file name based on the runtime env\n",
    "#\n",
    "def get_training_filename(data_file_name):    \n",
    "    # if running on data bricks\n",
    "    if is_databricks():\n",
    "        # build the full path file name assuming data brick env\n",
    "        full_path_name = \"/FileStore/tables/%s\" % data_file_name\n",
    "    # else the data is assumed to be in the same dir as this notebook\n",
    "    else:\n",
    "        # Assume the student is running on their own computer and load the data\n",
    "        # file from the same dir as this notebook\n",
    "        full_path_name = data_file_name\n",
    "    \n",
    "    # return the full path file name to the caller\n",
    "    return full_path_name"
   ]
  },
  {
   "cell_type": "code",
   "execution_count": 3,
   "metadata": {},
   "outputs": [],
   "source": [
    "# Loading Train data\n",
    "\n",
    "us_train_cat = spark.read.csv(get_training_filename('USAccident_balanced_train_binary.csv'), header = True, inferSchema = True)"
   ]
  },
  {
   "cell_type": "code",
   "execution_count": 4,
   "metadata": {},
   "outputs": [
    {
     "name": "stdout",
     "output_type": "stream",
     "text": [
      "+------------------------+\n",
      "|count(DISTINCT Severity)|\n",
      "+------------------------+\n",
      "|                       2|\n",
      "+------------------------+\n",
      "\n"
     ]
    }
   ],
   "source": [
    "# Number of unique labels in Severity column\n",
    "\n",
    "us_train_cat.agg(countDistinct(\"Severity\")).show()"
   ]
  },
  {
   "cell_type": "code",
   "execution_count": 5,
   "metadata": {},
   "outputs": [
    {
     "name": "stdout",
     "output_type": "stream",
     "text": [
      "+--------+------+\n",
      "|Severity| count|\n",
      "+--------+------+\n",
      "|       1|258685|\n",
      "|       0|263022|\n",
      "+--------+------+\n",
      "\n"
     ]
    }
   ],
   "source": [
    "# Checking the balance of data in training dataset\n",
    "\n",
    "us_train_cat.groupBy('Severity').count().show()"
   ]
  },
  {
   "cell_type": "code",
   "execution_count": 6,
   "metadata": {},
   "outputs": [],
   "source": [
    "# Loading the test data\n",
    "\n",
    "us_test_cat = spark.read.csv(get_training_filename('USAccident_validation_categorical.csv'), header = True, inferSchema = True)"
   ]
  },
  {
   "cell_type": "code",
   "execution_count": 7,
   "metadata": {},
   "outputs": [
    {
     "name": "stdout",
     "output_type": "stream",
     "text": [
      "+--------+------+\n",
      "|Severity| count|\n",
      "+--------+------+\n",
      "|       3| 58293|\n",
      "|       4|  6115|\n",
      "|       2|131571|\n",
      "+--------+------+\n",
      "\n"
     ]
    }
   ],
   "source": [
    "# Checking the balance of data in testing dataset\n",
    "\n",
    "us_test_cat.groupBy('Severity').count().show()"
   ]
  },
  {
   "cell_type": "code",
   "execution_count": 8,
   "metadata": {},
   "outputs": [],
   "source": [
    "# Vector Assembler to convert all features except Severity to a single column features for feeding it to input of model\n",
    "\n",
    "va = VectorAssembler().setInputCols([i for i in us_train_cat.columns if i!='Severity']).setOutputCol('features')\n",
    "\n",
    "\n",
    "# String Indexer to assign target Variable Severity name Label needed for the model to predict\n",
    "\n",
    "label_stringIdx = StringIndexer(inputCol=\"Severity\", outputCol=\"label\")"
   ]
  },
  {
   "cell_type": "code",
   "execution_count": 9,
   "metadata": {},
   "outputs": [],
   "source": [
    "# Assigning label of 1 to category 3 and 4 and combine them to make it 1 category for test data\n",
    "\n",
    "us_test_cat=us_test_cat.withColumn(\"Severity\",when(((us_test_cat[\"Severity\"]==4) | (us_test_cat[\"Severity\"]==3)),1).otherwise(0))"
   ]
  },
  {
   "cell_type": "code",
   "execution_count": 10,
   "metadata": {},
   "outputs": [],
   "source": [
    "# Evaluator defined for Binary Classification\n",
    "\n",
    "evaluator_rfb = BinaryClassificationEvaluator(labelCol='label',metricName='areaUnderROC')"
   ]
  },
  {
   "cell_type": "markdown",
   "metadata": {},
   "source": [
    "# RF Base Model"
   ]
  },
  {
   "cell_type": "code",
   "execution_count": 11,
   "metadata": {},
   "outputs": [],
   "source": [
    "\n",
    "# Create an initial RandomForest model.\n",
    "rf = RandomForestClassifier(labelCol=\"label\", featuresCol=\"features\",seed=42)\n",
    "\n",
    "# Pipeline with stages for fitting the training data\n",
    "\n",
    "rfModel = Pipeline(stages=[label_stringIdx,va, rf])"
   ]
  },
  {
   "cell_type": "code",
   "execution_count": 12,
   "metadata": {},
   "outputs": [],
   "source": [
    "# Fit the training data using RF pipeline\n",
    "\n",
    "rf_fit = rfModel.fit(us_train_cat)"
   ]
  },
  {
   "cell_type": "code",
   "execution_count": 13,
   "metadata": {},
   "outputs": [],
   "source": [
    "# Predict the test data using fitted train pipeline\n",
    "\n",
    "pred_rfbb = rf_fit.transform(us_test_cat)"
   ]
  },
  {
   "cell_type": "code",
   "execution_count": 14,
   "metadata": {},
   "outputs": [
    {
     "name": "stdout",
     "output_type": "stream",
     "text": [
      "AUC Score is 0.7688934174044953\n"
     ]
    }
   ],
   "source": [
    "# AUC Score for the test data\n",
    "\n",
    "print(\"AUC Score is\", evaluator_rfb.evaluate(pred_rfbb))"
   ]
  },
  {
   "cell_type": "code",
   "execution_count": 15,
   "metadata": {},
   "outputs": [],
   "source": [
    "# Prediction output from the model to pandas\n",
    "\n",
    "prediction_rfbb=(pred_rfbb).toPandas()[\"prediction\"]"
   ]
  },
  {
   "cell_type": "code",
   "execution_count": 16,
   "metadata": {},
   "outputs": [],
   "source": [
    "# True Labels from test data for Target Variable\n",
    "\n",
    "true_labels=us_test_cat.toPandas()[\"Severity\"]"
   ]
  },
  {
   "cell_type": "code",
   "execution_count": 17,
   "metadata": {},
   "outputs": [],
   "source": [
    "# Initializing Classification Report from sklearn\n",
    "\n",
    "from sklearn.metrics import classification_report"
   ]
  },
  {
   "cell_type": "code",
   "execution_count": 18,
   "metadata": {},
   "outputs": [
    {
     "name": "stdout",
     "output_type": "stream",
     "text": [
      "              precision    recall  f1-score   support\n",
      "\n",
      "           0       0.87      0.59      0.70    131571\n",
      "           1       0.50      0.82      0.62     64408\n",
      "\n",
      "   micro avg       0.67      0.67      0.67    195979\n",
      "   macro avg       0.68      0.71      0.66    195979\n",
      "weighted avg       0.75      0.67      0.68    195979\n",
      "\n"
     ]
    }
   ],
   "source": [
    "# Classification Report Generation for all metrics display at once\n",
    "\n",
    "print(classification_report(y_pred=prediction_rfbb,y_true=true_labels))"
   ]
  },
  {
   "cell_type": "code",
   "execution_count": 19,
   "metadata": {},
   "outputs": [
    {
     "data": {
      "text/plain": [
       "SparseVector(48, {1: 0.0002, 6: 0.0, 8: 0.0, 9: 0.0, 11: 0.0044, 13: 0.0, 14: 0.0001, 16: 0.1117, 17: 0.0001, 18: 0.0, 19: 0.0017, 20: 0.0, 21: 0.0117, 22: 0.0003, 23: 0.0104, 24: 0.0, 25: 0.0492, 26: 0.0, 27: 0.0086, 28: 0.0, 29: 0.0012, 31: 0.0088, 32: 0.0148, 34: 0.2116, 35: 0.0039, 36: 0.0052, 37: 0.0527, 38: 0.2789, 39: 0.0001, 40: 0.001, 41: 0.045, 42: 0.138, 44: 0.0034, 45: 0.0045, 46: 0.0065, 47: 0.0259})"
      ]
     },
     "execution_count": 19,
     "metadata": {},
     "output_type": "execute_result"
    }
   ],
   "source": [
    "# Feature Importance from RF model \n",
    "\n",
    "rf_fit.stages[-1].featureImportances"
   ]
  },
  {
   "cell_type": "code",
   "execution_count": 20,
   "metadata": {},
   "outputs": [],
   "source": [
    "# Creating Pandas Dataframe for Features and their Importance of RF Base Model for Binary Classification\n",
    "\n",
    "pd.set_option('display.max_rows', None)\n",
    "feat_imp_tuned_rfbb = pd.DataFrame(list(zip([i for i in us_train_cat.columns if i!='Severity'], rf_fit.stages[-1].featureImportances)),\n",
    "            columns = ['column', 'weight']).sort_values('weight',ascending=False)"
   ]
  },
  {
   "cell_type": "code",
   "execution_count": 21,
   "metadata": {},
   "outputs": [
    {
     "data": {
      "text/plain": [
       "Text(0.5,1,'Top 10 Features based on Importance from Random Forest binary balanced')"
      ]
     },
     "execution_count": 21,
     "metadata": {},
     "output_type": "execute_result"
    },
    {
     "data": {
      "image/png": "[encoded data removed]",
      "text/plain": [
       "<matplotlib.figure.Figure at 0x1bfcdd0b0f0>"
      ]
     },
     "metadata": {},
     "output_type": "display_data"
    }
   ],
   "source": [
    "# Plotting top 10 Features from Feature Importance of RF Base Model for Binary Classification\n",
    "\n",
    "plt.figure(figsize=(10,10))\n",
    "sns.barplot(x=feat_imp_tuned_rfbb['column'][:10], y=feat_imp_tuned_rfbb['weight'][:10],data=feat_imp_tuned_rfbb)\n",
    "plt.xticks(rotation=90)\n",
    "plt.xlabel(\"Features\")\n",
    "plt.ylabel(\"Weights\")\n",
    "plt.title(\"Top 10 Features based on Importance from Random Forest binary balanced\")"
   ]
  },
  {
   "cell_type": "code",
   "execution_count": 22,
   "metadata": {},
   "outputs": [
    {
     "data": {
      "text/plain": [
       "0.6671837288689094"
      ]
     },
     "execution_count": 22,
     "metadata": {},
     "output_type": "execute_result"
    }
   ],
   "source": [
    "# Accuracy calculation for RF Base Model\n",
    "\n",
    "true_labels=us_test_cat.toPandas()[\"Severity\"]\n",
    "\n",
    "binary_prediction=(pred_rfbb).select(\"prediction\").collect()\n",
    "\n",
    "binary_true_labels=us_test_cat.select(\"Severity\").collect()\n",
    "\n",
    "np.sum(list([int(binary_true_labels[i][0]==binary_prediction[i][0]) for i in range(len(true_labels))]))/len(true_labels)"
   ]
  },
  {
   "cell_type": "markdown",
   "metadata": {},
   "source": [
    "# RF Grid Search "
   ]
  },
  {
   "cell_type": "code",
   "execution_count": 23,
   "metadata": {},
   "outputs": [],
   "source": [
    "\n",
    "# Create an initial RandomForest model\n",
    "\n",
    "rf_new = RandomForestClassifier(labelCol=\"label\", featuresCol=\"features\",seed=42)\n",
    "\n",
    "# Pipeline with stages for RF Grid Search Model\n",
    "\n",
    "rfModel_new = Pipeline(stages=[label_stringIdx,va, rf_new])\n",
    "\n",
    "# Grid Search for tuning Hyper parameters \n",
    "\n",
    "paramGrid_rft = ParamGridBuilder().addGrid(rf_new.numTrees, [10,25,60]).addGrid(rf_new.maxDepth, [3,6,10]).addGrid(rf_new.impurity,[\"entropy\", \"gini\"]).build()"
   ]
  },
  {
   "cell_type": "code",
   "execution_count": 24,
   "metadata": {},
   "outputs": [],
   "source": [
    "# 5-fold Cross Validator Pipeline and fitting the train data using this cv pipeline\n",
    "\n",
    "cv_rf = CrossValidator(estimator=rfModel_new, estimatorParamMaps=paramGrid_rft, evaluator=evaluator_rfb, numFolds=5,seed=42).fit(us_train_cat)"
   ]
  },
  {
   "cell_type": "code",
   "execution_count": 25,
   "metadata": {},
   "outputs": [],
   "source": [
    "# Predicting the test data using fitted cv pipeline\n",
    "\n",
    "pred_rft = cv_rf.transform(us_test_cat)"
   ]
  },
  {
   "cell_type": "code",
   "execution_count": 26,
   "metadata": {},
   "outputs": [
    {
     "name": "stdout",
     "output_type": "stream",
     "text": [
      "AUC Score is 0.7883950290709438\n"
     ]
    }
   ],
   "source": [
    "# AUC Score of tuned RF model\n",
    "\n",
    "print(\"AUC Score is\", evaluator_rfb.evaluate(pred_rft))"
   ]
  },
  {
   "cell_type": "code",
   "execution_count": 27,
   "metadata": {},
   "outputs": [
    {
     "data": {
      "text/plain": [
       "{Param(parent='RandomForestClassifier_cd3b39dd9856', name='cacheNodeIds', doc='If false, the algorithm will pass trees to executors to match instances with nodes. If true, the algorithm will cache node IDs for each instance. Caching can speed up training of deeper trees.'): False,\n",
       " Param(parent='RandomForestClassifier_cd3b39dd9856', name='checkpointInterval', doc='set checkpoint interval (>= 1) or disable checkpoint (-1). E.g. 10 means that the cache will get checkpointed every 10 iterations. Note: this setting will be ignored if the checkpoint directory is not set in the SparkContext'): 10,\n",
       " Param(parent='RandomForestClassifier_cd3b39dd9856', name='featureSubsetStrategy', doc='The number of features to consider for splits at each tree node. Supported options: auto, all, onethird, sqrt, log2, (0.0-1.0], [1-n].'): 'auto',\n",
       " Param(parent='RandomForestClassifier_cd3b39dd9856', name='featuresCol', doc='features column name'): 'features',\n",
       " Param(parent='RandomForestClassifier_cd3b39dd9856', name='impurity', doc='Criterion used for information gain calculation (case-insensitive). Supported options: entropy, gini'): 'entropy',\n",
       " Param(parent='RandomForestClassifier_cd3b39dd9856', name='labelCol', doc='label column name'): 'label',\n",
       " Param(parent='RandomForestClassifier_cd3b39dd9856', name='maxBins', doc='Max number of bins for discretizing continuous features.  Must be >=2 and >= number of categories for any categorical feature.'): 32,\n",
       " Param(parent='RandomForestClassifier_cd3b39dd9856', name='maxDepth', doc='Maximum depth of the tree. (>= 0) E.g., depth 0 means 1 leaf node; depth 1 means 1 internal node + 2 leaf nodes.'): 10,\n",
       " Param(parent='RandomForestClassifier_cd3b39dd9856', name='maxMemoryInMB', doc='Maximum memory in MB allocated to histogram aggregation.'): 256,\n",
       " Param(parent='RandomForestClassifier_cd3b39dd9856', name='minInfoGain', doc='Minimum information gain for a split to be considered at a tree node.'): 0.0,\n",
       " Param(parent='RandomForestClassifier_cd3b39dd9856', name='minInstancesPerNode', doc='Minimum number of instances each child must have after split.  If a split causes the left or right child to have fewer than minInstancesPerNode, the split will be discarded as invalid. Should be >= 1.'): 1,\n",
       " Param(parent='RandomForestClassifier_cd3b39dd9856', name='numTrees', doc='Number of trees to train (>= 1)'): 60,\n",
       " Param(parent='RandomForestClassifier_cd3b39dd9856', name='predictionCol', doc='prediction column name'): 'prediction',\n",
       " Param(parent='RandomForestClassifier_cd3b39dd9856', name='probabilityCol', doc='Column name for predicted class conditional probabilities. Note: Not all models output well-calibrated probability estimates! These probabilities should be treated as confidences, not precise probabilities'): 'probability',\n",
       " Param(parent='RandomForestClassifier_cd3b39dd9856', name='rawPredictionCol', doc='raw prediction (a.k.a. confidence) column name'): 'rawPrediction',\n",
       " Param(parent='RandomForestClassifier_cd3b39dd9856', name='seed', doc='random seed'): 42,\n",
       " Param(parent='RandomForestClassifier_cd3b39dd9856', name='subsamplingRate', doc='Fraction of the training data used for learning each decision tree, in range (0, 1].'): 1.0}"
      ]
     },
     "execution_count": 27,
     "metadata": {},
     "output_type": "execute_result"
    }
   ],
   "source": [
    "# Best Model Hyper Parameters after tuning\n",
    "\n",
    "cv_rf.bestModel.stages[-1].extractParamMap()"
   ]
  },
  {
   "cell_type": "code",
   "execution_count": 28,
   "metadata": {},
   "outputs": [
    {
     "data": {
      "text/plain": [
       "60"
      ]
     },
     "execution_count": 28,
     "metadata": {},
     "output_type": "execute_result"
    }
   ],
   "source": [
    "# Best model number of trees parameter from Grid Search\n",
    "\n",
    "cv_rf.bestModel.stages[-1].getNumTrees"
   ]
  },
  {
   "cell_type": "code",
   "execution_count": 29,
   "metadata": {},
   "outputs": [
    {
     "data": {
      "text/plain": [
       "0.6805780211145072"
      ]
     },
     "execution_count": 29,
     "metadata": {},
     "output_type": "execute_result"
    }
   ],
   "source": [
    "# Accuracy of the model on test data\n",
    "\n",
    "true_labels=us_test_cat.toPandas()[\"Severity\"]\n",
    "\n",
    "binary_prediction=pred_rft.select(\"prediction\").collect()\n",
    "\n",
    "binary_true_labels=us_test_cat.select(\"Severity\").collect()\n",
    "\n",
    "np.sum(list([int(binary_true_labels[i][0]==binary_prediction[i][0]) for i in range(len(true_labels))]))/len(true_labels)"
   ]
  },
  {
   "cell_type": "code",
   "execution_count": 30,
   "metadata": {},
   "outputs": [],
   "source": [
    "# Prediction output from the model to pandas\n",
    "\n",
    "prediction_rft=pred_rft.toPandas()[\"prediction\"]"
   ]
  },
  {
   "cell_type": "code",
   "execution_count": 31,
   "metadata": {},
   "outputs": [],
   "source": [
    "# True Labels from test data for Target Variable\n",
    "\n",
    "true_labels=us_test_cat.toPandas()[\"Severity\"]"
   ]
  },
  {
   "cell_type": "code",
   "execution_count": 32,
   "metadata": {},
   "outputs": [],
   "source": [
    "# Initializing Classification Report from sklearn\n",
    "\n",
    "from sklearn.metrics import classification_report"
   ]
  },
  {
   "cell_type": "code",
   "execution_count": 33,
   "metadata": {},
   "outputs": [
    {
     "name": "stdout",
     "output_type": "stream",
     "text": [
      "              precision    recall  f1-score   support\n",
      "\n",
      "           0       0.88      0.61      0.72    131571\n",
      "           1       0.51      0.83      0.63     64408\n",
      "\n",
      "   micro avg       0.68      0.68      0.68    195979\n",
      "   macro avg       0.69      0.72      0.67    195979\n",
      "weighted avg       0.76      0.68      0.69    195979\n",
      "\n"
     ]
    }
   ],
   "source": [
    "# Classification Report Generation for all metrics display at once\n",
    "\n",
    "print(classification_report(y_pred=prediction_rft,y_true=true_labels))"
   ]
  },
  {
   "cell_type": "code",
   "execution_count": 34,
   "metadata": {},
   "outputs": [],
   "source": [
    "# Creating Pandas Dataframe for Features and their Importance of RF Grid Model for Binary Classification\n",
    "\n",
    "pd.set_option('display.max_rows', None)\n",
    "feat_imp_tuned_rfg = pd.DataFrame(list(zip([i for i in us_train_cat.columns if i!='Severity'], cv_rf.bestModel.stages[-1].featureImportances)),\n",
    "            columns = ['column', 'weight']).sort_values('weight',ascending=False)"
   ]
  },
  {
   "cell_type": "code",
   "execution_count": 35,
   "metadata": {},
   "outputs": [
    {
     "data": {
      "text/plain": [
       "Text(0.5,1,'Top 10 Features based on Importance from Random Forest Grid')"
      ]
     },
     "execution_count": 35,
     "metadata": {},
     "output_type": "execute_result"
    },
    {
     "data": {
      "image/png": "[encoded data removed]",
      "text/plain": [
       "<matplotlib.figure.Figure at 0x1bfb6197390>"
      ]
     },
     "metadata": {},
     "output_type": "display_data"
    }
   ],
   "source": [
    "# Plotting top 10 Features from Feature Importance of RF Grid Model for Binary Classification\n",
    "\n",
    "plt.figure(figsize=(10,10))\n",
    "sns.barplot(x=feat_imp_tuned_rfg['column'][:10], y=feat_imp_tuned_rfg['weight'][:10],data=feat_imp_tuned_rfg)\n",
    "plt.xticks(rotation=90)\n",
    "plt.xlabel(\"Features\")\n",
    "plt.ylabel(\"Weights\")\n",
    "plt.title(\"Top 10 Features based on Importance from Random Forest Grid\")"
   ]
  },
  {
   "cell_type": "markdown",
   "metadata": {},
   "source": [
    "# GBT Base Model"
   ]
  },
  {
   "cell_type": "code",
   "execution_count": 36,
   "metadata": {},
   "outputs": [],
   "source": [
    "# Initialize the GBT Base model\n",
    "\n",
    "gbt = GBTClassifier(seed=42)"
   ]
  },
  {
   "cell_type": "code",
   "execution_count": 37,
   "metadata": {},
   "outputs": [],
   "source": [
    "# Pipeline with stages to be used to fit the train data\n",
    "\n",
    "gbt_pipe = Pipeline(stages=[label_stringIdx, va, gbt])"
   ]
  },
  {
   "cell_type": "code",
   "execution_count": 38,
   "metadata": {},
   "outputs": [],
   "source": [
    "# Fitting the training data using the pipeline above\n",
    "\n",
    "gbtModel = gbt_pipe.fit(us_train_cat)"
   ]
  },
  {
   "cell_type": "code",
   "execution_count": 39,
   "metadata": {},
   "outputs": [
    {
     "name": "stdout",
     "output_type": "stream",
     "text": [
      "AUC Score is 0.7906177407137301\n"
     ]
    }
   ],
   "source": [
    "# AUC Score from the model on the test data\n",
    "\n",
    "print(\"AUC Score is\", evaluator_rfb.evaluate(gbtModel.transform(us_test_cat)))"
   ]
  },
  {
   "cell_type": "code",
   "execution_count": 40,
   "metadata": {},
   "outputs": [],
   "source": [
    "# Prediction output from the model to pandas\n",
    "\n",
    "prediction_gbtn=(gbtModel.transform(us_test_cat)).toPandas()[\"prediction\"]"
   ]
  },
  {
   "cell_type": "code",
   "execution_count": 41,
   "metadata": {},
   "outputs": [],
   "source": [
    "# True labels from the test data for the target variable\n",
    "\n",
    "true_labels=us_test_cat.toPandas()[\"Severity\"]"
   ]
  },
  {
   "cell_type": "code",
   "execution_count": 42,
   "metadata": {},
   "outputs": [],
   "source": [
    "# Initializing Classification Report from sklearn\n",
    "\n",
    "from sklearn.metrics import classification_report"
   ]
  },
  {
   "cell_type": "code",
   "execution_count": 43,
   "metadata": {},
   "outputs": [
    {
     "name": "stdout",
     "output_type": "stream",
     "text": [
      "              precision    recall  f1-score   support\n",
      "\n",
      "           0       0.88      0.60      0.71    131571\n",
      "           1       0.51      0.84      0.63     64408\n",
      "\n",
      "   micro avg       0.68      0.68      0.68    195979\n",
      "   macro avg       0.69      0.72      0.67    195979\n",
      "weighted avg       0.76      0.68      0.69    195979\n",
      "\n"
     ]
    }
   ],
   "source": [
    "# Classification Report Generation for all metrics display at once\n",
    "\n",
    "print(classification_report(y_pred=prediction_gbtn,y_true=true_labels))"
   ]
  },
  {
   "cell_type": "code",
   "execution_count": 44,
   "metadata": {},
   "outputs": [
    {
     "data": {
      "text/plain": [
       "0.677955291128131"
      ]
     },
     "execution_count": 44,
     "metadata": {},
     "output_type": "execute_result"
    }
   ],
   "source": [
    "# Accuracy of the model on test data\n",
    "pred=gbtModel.transform(us_test_cat)\n",
    "\n",
    "true_labels=us_test_cat.toPandas()[\"Severity\"]\n",
    "\n",
    "binary_prediction=pred.select(\"prediction\").collect()\n",
    "\n",
    "binary_true_labels=us_test_cat.select(\"Severity\").collect()\n",
    "\n",
    "np.sum(list([int(binary_true_labels[i][0]==binary_prediction[i][0]) for i in range(len(true_labels))]))/len(true_labels)"
   ]
  },
  {
   "cell_type": "code",
   "execution_count": 44,
   "metadata": {},
   "outputs": [],
   "source": [
    "# Creating Pandas Dataframe for Features and their Importance of GBT Base Model for Binary Classification\n",
    "\n",
    "pd.set_option('display.max_rows', None)\n",
    "feat_imp_tuned_gtbb = pd.DataFrame(list(zip([i for i in us_train_cat.columns if i!='Severity'], gbtModel.stages[-1].featureImportances)),\n",
    "            columns = ['column', 'weight']).sort_values('weight',ascending=False)"
   ]
  },
  {
   "cell_type": "code",
   "execution_count": 45,
   "metadata": {},
   "outputs": [
    {
     "data": {
      "text/plain": [
       "Text(0.5,1,'Top 10 Features based on Importance from GBT Base Model')"
      ]
     },
     "execution_count": 45,
     "metadata": {},
     "output_type": "execute_result"
    },
    {
     "data": {
      "image/png": "[encoded data removed]",
      "text/plain": [
       "<matplotlib.figure.Figure at 0x2359aa02e10>"
      ]
     },
     "metadata": {},
     "output_type": "display_data"
    }
   ],
   "source": [
    "# Plotting top 10 Features from Feature Importance of GBT Base Model for Binary Classification\n",
    "\n",
    "plt.figure(figsize=(10,10))\n",
    "sns.barplot(x=feat_imp_tuned_gtbb['column'][:10], y=feat_imp_tuned_gtbb['weight'][:10],data=feat_imp_tuned_gtbb)\n",
    "plt.xticks(rotation=90)\n",
    "plt.xlabel(\"Features\")\n",
    "plt.ylabel(\"Weights\")\n",
    "plt.title(\"Top 10 Features based on Importance from GBT Base Model\")"
   ]
  },
  {
   "cell_type": "markdown",
   "metadata": {},
   "source": [
    "# GBT Binary Classification Grid Search"
   ]
  },
  {
   "cell_type": "markdown",
   "metadata": {},
   "source": [
    "# GBT Binary Tuned Best Model"
   ]
  },
  {
   "cell_type": "code",
   "execution_count": 45,
   "metadata": {},
   "outputs": [],
   "source": [
    "\n",
    "# Initializing GBT Grid Pipeline \n",
    "\n",
    "gbt_t_new = GBTClassifier(maxIter=55,seed=42)\n",
    "\n",
    "# Creating pipeline for GBT grid Model \n",
    "\n",
    "gbt_pipe_t_new = Pipeline(stages=[label_stringIdx, va, gbt_t_new])\n",
    "\n",
    "# Binary Classification Evaluator\n",
    "\n",
    "evaluator = BinaryClassificationEvaluator(labelCol='label',metricName='areaUnderROC')\n",
    "\n",
    "# Creating Grid Search for Hyper Parameter Tuning for GBT model\n",
    "\n",
    "grid_gbt_t_new = ParamGridBuilder().addGrid(gbt_t_new.stepSize, [0.2,0.4,0.01]).addGrid(gbt_t_new.maxDepth, [3, 5, 8]).build()\n",
    "\n",
    "# Cross Validator Pipeline with 5 fold cv to fit the training data\n",
    "\n",
    "cv1_gbt_t_new = CrossValidator(estimator=gbt_pipe_t_new,estimatorParamMaps=grid_gbt_t_new, numFolds=5, evaluator=evaluator,seed=42)"
   ]
  },
  {
   "cell_type": "code",
   "execution_count": 46,
   "metadata": {},
   "outputs": [],
   "source": [
    "# Fitting train data using 5-fold cross validator pipeline\n",
    "\n",
    "cvModel_gbt_t_new = cv1_gbt_t_new.fit(us_train_cat)"
   ]
  },
  {
   "cell_type": "code",
   "execution_count": 47,
   "metadata": {},
   "outputs": [
    {
     "name": "stdout",
     "output_type": "stream",
     "text": [
      "AUC Score is 0.8029201482369708\n"
     ]
    }
   ],
   "source": [
    "# AUC Score from the fitted pipeline for the test data\n",
    "\n",
    "print(\"AUC Score is\", evaluator.evaluate(cvModel_gbt_t_new.transform(us_test_cat)))"
   ]
  },
  {
   "cell_type": "code",
   "execution_count": 48,
   "metadata": {},
   "outputs": [
    {
     "data": {
      "text/plain": [
       "0.8012168000504416"
      ]
     },
     "execution_count": 48,
     "metadata": {},
     "output_type": "execute_result"
    }
   ],
   "source": [
    "# AUC Score from the Cross validator Pipeline\n",
    "\n",
    "np.max(cvModel_gbt_t_new.avgMetrics)"
   ]
  },
  {
   "cell_type": "code",
   "execution_count": 49,
   "metadata": {},
   "outputs": [
    {
     "data": {
      "text/plain": [
       "{Param(parent='GBTClassifier_9bc66308c04c', name='cacheNodeIds', doc='If false, the algorithm will pass trees to executors to match instances with nodes. If true, the algorithm will cache node IDs for each instance. Caching can speed up training of deeper trees.'): False,\n",
       " Param(parent='GBTClassifier_9bc66308c04c', name='checkpointInterval', doc='set checkpoint interval (>= 1) or disable checkpoint (-1). E.g. 10 means that the cache will get checkpointed every 10 iterations. Note: this setting will be ignored if the checkpoint directory is not set in the SparkContext'): 10,\n",
       " Param(parent='GBTClassifier_9bc66308c04c', name='featureSubsetStrategy', doc='The number of features to consider for splits at each tree node. Supported options: auto, all, onethird, sqrt, log2, (0.0-1.0], [1-n].'): 'all',\n",
       " Param(parent='GBTClassifier_9bc66308c04c', name='featuresCol', doc='features column name'): 'features',\n",
       " Param(parent='GBTClassifier_9bc66308c04c', name='labelCol', doc='label column name'): 'label',\n",
       " Param(parent='GBTClassifier_9bc66308c04c', name='lossType', doc='Loss function which GBT tries to minimize (case-insensitive). Supported options: logistic'): 'logistic',\n",
       " Param(parent='GBTClassifier_9bc66308c04c', name='maxBins', doc='Max number of bins for discretizing continuous features.  Must be >=2 and >= number of categories for any categorical feature.'): 32,\n",
       " Param(parent='GBTClassifier_9bc66308c04c', name='maxDepth', doc='Maximum depth of the tree. (>= 0) E.g., depth 0 means 1 leaf node; depth 1 means 1 internal node + 2 leaf nodes.'): 8,\n",
       " Param(parent='GBTClassifier_9bc66308c04c', name='maxIter', doc='maximum number of iterations (>= 0)'): 55,\n",
       " Param(parent='GBTClassifier_9bc66308c04c', name='maxMemoryInMB', doc='Maximum memory in MB allocated to histogram aggregation.'): 256,\n",
       " Param(parent='GBTClassifier_9bc66308c04c', name='minInfoGain', doc='Minimum information gain for a split to be considered at a tree node.'): 0.0,\n",
       " Param(parent='GBTClassifier_9bc66308c04c', name='minInstancesPerNode', doc='Minimum number of instances each child must have after split.  If a split causes the left or right child to have fewer than minInstancesPerNode, the split will be discarded as invalid. Should be >= 1.'): 1,\n",
       " Param(parent='GBTClassifier_9bc66308c04c', name='predictionCol', doc='prediction column name'): 'prediction',\n",
       " Param(parent='GBTClassifier_9bc66308c04c', name='seed', doc='random seed'): 42,\n",
       " Param(parent='GBTClassifier_9bc66308c04c', name='stepSize', doc='Step size (a.k.a. learning rate) in interval (0, 1] for shrinking the contribution of each estimator.'): 0.2,\n",
       " Param(parent='GBTClassifier_9bc66308c04c', name='subsamplingRate', doc='Fraction of the training data used for learning each decision tree, in range (0, 1].'): 1.0}"
      ]
     },
     "execution_count": 49,
     "metadata": {},
     "output_type": "execute_result"
    }
   ],
   "source": [
    "# Hyper pramaters from the best model \n",
    "\n",
    "cvModel_gbt_t_new.bestModel.stages[-1].extractParamMap()"
   ]
  },
  {
   "cell_type": "code",
   "execution_count": 50,
   "metadata": {},
   "outputs": [],
   "source": [
    "# Prediction output from the model to pandas\n",
    "\n",
    "prediction_gbt_t_new=cvModel_gbt_t_new.transform(us_test_cat).toPandas()[\"prediction\"]"
   ]
  },
  {
   "cell_type": "code",
   "execution_count": 51,
   "metadata": {},
   "outputs": [],
   "source": [
    "# True Labels from test data for Target Variable\n",
    "\n",
    "true_labels=us_test_cat.toPandas()[\"Severity\"]"
   ]
  },
  {
   "cell_type": "code",
   "execution_count": 52,
   "metadata": {},
   "outputs": [],
   "source": [
    "# Initializing Classification Report from sklearn\n",
    "\n",
    "from sklearn.metrics import classification_report"
   ]
  },
  {
   "cell_type": "code",
   "execution_count": 53,
   "metadata": {},
   "outputs": [
    {
     "name": "stdout",
     "output_type": "stream",
     "text": [
      "              precision    recall  f1-score   support\n",
      "\n",
      "           0       0.87      0.65      0.75    131571\n",
      "           1       0.53      0.81      0.64     64408\n",
      "\n",
      "   micro avg       0.70      0.70      0.70    195979\n",
      "   macro avg       0.70      0.73      0.69    195979\n",
      "weighted avg       0.76      0.70      0.71    195979\n",
      "\n"
     ]
    }
   ],
   "source": [
    "# Classification Report Generation for all metrics display at once\n",
    "\n",
    "print(classification_report(y_pred=prediction_gbt_t_new,y_true=true_labels))"
   ]
  },
  {
   "cell_type": "code",
   "execution_count": 54,
   "metadata": {},
   "outputs": [
    {
     "data": {
      "text/plain": [
       "0.702065017170207"
      ]
     },
     "execution_count": 54,
     "metadata": {},
     "output_type": "execute_result"
    }
   ],
   "source": [
    "# Accuracy of the model on test data\n",
    "pred=cvModel_gbt_t_new.transform(us_test_cat)\n",
    "\n",
    "true_labels=us_test_cat.toPandas()[\"Severity\"]\n",
    "\n",
    "binary_prediction=pred.select(\"prediction\").collect()\n",
    "\n",
    "binary_true_labels=us_test_cat.select(\"Severity\").collect()\n",
    "\n",
    "np.sum(list([int(binary_true_labels[i][0]==binary_prediction[i][0]) for i in range(len(true_labels))]))/len(true_labels)"
   ]
  },
  {
   "cell_type": "code",
   "execution_count": 55,
   "metadata": {},
   "outputs": [],
   "source": [
    "# Creating Pandas Dataframe for Features and their Importance of GBT Grid Model for Binary Classification\n",
    "\n",
    "pd.set_option('display.max_rows', None)\n",
    "feat_imp_tuned_gbt_t_new = pd.DataFrame(list(zip([i for i in us_train_cat.columns if i!='Severity'], cvModel_gbt_t_new.bestModel.stages[-1].featureImportances)),\n",
    "            columns = ['column', 'weight']).sort_values('weight',ascending=False)"
   ]
  },
  {
   "cell_type": "code",
   "execution_count": 56,
   "metadata": {},
   "outputs": [
    {
     "data": {
      "text/plain": [
       "Text(0.5,1,'Top 10 Features based on Importance from GBT Best tuned')"
      ]
     },
     "execution_count": 56,
     "metadata": {},
     "output_type": "execute_result"
    },
    {
     "data": {
      "image/png": "[encoded data removed]",
      "text/plain": [
       "<matplotlib.figure.Figure at 0x2359c9eb860>"
      ]
     },
     "metadata": {},
     "output_type": "display_data"
    }
   ],
   "source": [
    "# Plotting top 10 Features from Feature Importance of GBT Grid Model for Binary Classification\n",
    "\n",
    "plt.figure(figsize=(10,10))\n",
    "sns.barplot(x=feat_imp_tuned_gbt_t_new['column'][:10], y=feat_imp_tuned_gbt_t_new['weight'][:10],data=feat_imp_tuned_gbt_t_new)\n",
    "plt.xticks(rotation=90)\n",
    "plt.xlabel(\"Features\")\n",
    "plt.ylabel(\"Weights\")\n",
    "plt.title(\"Top 10 Features based on Importance from GBT Best tuned\")"
   ]
  },
  {
   "cell_type": "markdown",
   "metadata": {},
   "source": [
    "# Decision Trees Binary Classification Base Model"
   ]
  },
  {
   "cell_type": "code",
   "execution_count": 57,
   "metadata": {},
   "outputs": [],
   "source": [
    "\n",
    "# Create initial Decision Tree Model\n",
    "dt = DecisionTreeClassifier(labelCol=\"label\", featuresCol=\"features\",seed=42)\n",
    "\n",
    "# Pipeline with stages created for DT Model \n",
    "\n",
    "dt_pipe = Pipeline(stages=[label_stringIdx, va, dt])\n",
    "\n",
    "# Train model with Training Data\n",
    "\n",
    "dtModel = dt_pipe.fit(us_train_cat)"
   ]
  },
  {
   "cell_type": "code",
   "execution_count": 58,
   "metadata": {},
   "outputs": [],
   "source": [
    "# Binary Class Evaluator Initialize\n",
    "\n",
    "evaluator = BinaryClassificationEvaluator(labelCol='label',metricName='areaUnderROC')"
   ]
  },
  {
   "cell_type": "code",
   "execution_count": 59,
   "metadata": {},
   "outputs": [],
   "source": [
    "# Transform the test data to get prediction from the model for the test data\n",
    "\n",
    "pred_dt = dtModel.transform(us_test_cat)"
   ]
  },
  {
   "cell_type": "code",
   "execution_count": 60,
   "metadata": {},
   "outputs": [
    {
     "name": "stdout",
     "output_type": "stream",
     "text": [
      "AUC Score is 0.6780653504241498\n"
     ]
    }
   ],
   "source": [
    "# AUC Score from the evaluator for the test data\n",
    "\n",
    "print(\"AUC Score is\",evaluator.evaluate(pred_dt))"
   ]
  },
  {
   "cell_type": "code",
   "execution_count": 61,
   "metadata": {},
   "outputs": [
    {
     "data": {
      "text/plain": [
       "0.6575398384520791"
      ]
     },
     "execution_count": 61,
     "metadata": {},
     "output_type": "execute_result"
    }
   ],
   "source": [
    "# Accuracy Calculation for DT Base Model\n",
    "\n",
    "binary_prediction=pred_dt.select(\"prediction\").collect()\n",
    "\n",
    "binary_true_labels=us_test_cat.select(\"Severity\").collect()\n",
    "\n",
    "np.sum(list([int(binary_true_labels[i][0]==binary_prediction[i][0]) for i in range(len(true_labels))]))/len(true_labels)"
   ]
  },
  {
   "cell_type": "code",
   "execution_count": 62,
   "metadata": {},
   "outputs": [],
   "source": [
    "# Prediction output from the model to pandas\n",
    "\n",
    "prediction_dtb=pred_dt.toPandas()[\"prediction\"]"
   ]
  },
  {
   "cell_type": "code",
   "execution_count": 63,
   "metadata": {},
   "outputs": [],
   "source": [
    "# True Labels from test data for Target Variable\n",
    "\n",
    "true_labels=us_test_cat.toPandas()[\"Severity\"]"
   ]
  },
  {
   "cell_type": "code",
   "execution_count": 64,
   "metadata": {},
   "outputs": [],
   "source": [
    "# Initializing Classification Report from sklearn\n",
    "\n",
    "from sklearn.metrics import classification_report"
   ]
  },
  {
   "cell_type": "code",
   "execution_count": 65,
   "metadata": {},
   "outputs": [
    {
     "name": "stdout",
     "output_type": "stream",
     "text": [
      "              precision    recall  f1-score   support\n",
      "\n",
      "           0       0.87      0.57      0.69    131571\n",
      "           1       0.49      0.83      0.61     64408\n",
      "\n",
      "   micro avg       0.66      0.66      0.66    195979\n",
      "   macro avg       0.68      0.70      0.65    195979\n",
      "weighted avg       0.75      0.66      0.67    195979\n",
      "\n"
     ]
    }
   ],
   "source": [
    "# Classification Report Generation for all metrics display at once\n",
    "\n",
    "print(classification_report(y_pred=prediction_dtb,y_true=true_labels))"
   ]
  },
  {
   "cell_type": "code",
   "execution_count": 66,
   "metadata": {},
   "outputs": [],
   "source": [
    "# Creating Pandas Dataframe for Features and their Importance of DT Base Model for Binary Classification\n",
    "\n",
    "pd.set_option('display.max_rows', None)\n",
    "feat_imp_tuned_dtb= pd.DataFrame(list(zip([i for i in us_train_cat.columns if i!='Severity'], dtModel.stages[-1].featureImportances)),\n",
    "            columns = ['column', 'weight']).sort_values('weight',ascending=False)"
   ]
  },
  {
   "cell_type": "code",
   "execution_count": 67,
   "metadata": {},
   "outputs": [
    {
     "data": {
      "text/plain": [
       "Text(0.5,1,'Top 10 Features based on Importance from DT Binary Base Model')"
      ]
     },
     "execution_count": 67,
     "metadata": {},
     "output_type": "execute_result"
    },
    {
     "data": {
      "image/png": "[encoded data removed]",
      "text/plain": [
       "<matplotlib.figure.Figure at 0x235994a2550>"
      ]
     },
     "metadata": {},
     "output_type": "display_data"
    }
   ],
   "source": [
    "# Plotting top 10 Features from Feature Importance of DT Base Model for Binary Classification\n",
    "\n",
    "plt.figure(figsize=(10,10))\n",
    "sns.barplot(x=feat_imp_tuned_dtb['column'][:10], y=feat_imp_tuned_dtb['weight'][:10],data=feat_imp_tuned_dtb)\n",
    "plt.xticks(rotation=90)\n",
    "plt.xlabel(\"Features\")\n",
    "plt.ylabel(\"Weights\")\n",
    "plt.title(\"Top 10 Features based on Importance from DT Binary Base Model\")"
   ]
  },
  {
   "cell_type": "markdown",
   "metadata": {},
   "source": [
    "# Decision Tree Binary Classification Grid Search"
   ]
  },
  {
   "cell_type": "code",
   "execution_count": 55,
   "metadata": {},
   "outputs": [],
   "source": [
    "# Initializing DT Grid Pipeline\n",
    "\n",
    "dt_new = DecisionTreeClassifier(labelCol=\"label\", featuresCol=\"features\",seed=42)\n",
    "\n",
    "# Creating pipeline for DT Grid Model \n",
    "\n",
    "dt_new_pipe = Pipeline(stages=[label_stringIdx, va, dt_new])\n",
    "\n",
    "# Binary Evaluator Initializing\n",
    "\n",
    "evaluator = BinaryClassificationEvaluator(labelCol='label',metricName='areaUnderROC')\n",
    "\n",
    "# Creating Grid Search for Hyper Parameter Tuning for DT Model\n",
    "\n",
    "grid_dt = ParamGridBuilder().addGrid(dt_new.maxDepth, [5,10,15,30]).addGrid(dt_new.minInstancesPerNode, [1,500,1000,1500]).addGrid(dt_new.maxBins,[20,32,50]).build()\n",
    "\n",
    "# Cross Validator Pipeline with 5 fold cv to fit the training data\n",
    "\n",
    "cv1_dt = CrossValidator(estimator=dt_new_pipe,estimatorParamMaps=grid_dt, numFolds=5, evaluator=evaluator,seed=42)"
   ]
  },
  {
   "cell_type": "code",
   "execution_count": 56,
   "metadata": {},
   "outputs": [],
   "source": [
    "# Fitting the train data using the 5-fold Cross validator pipeline\n",
    "\n",
    "dtModel_t = cv1_dt.fit(us_train_cat)"
   ]
  },
  {
   "cell_type": "code",
   "execution_count": 57,
   "metadata": {},
   "outputs": [],
   "source": [
    "# Predicting the test data using the fitted pipeline\n",
    "\n",
    "pred_dtt = dtModel_t.transform(us_test_cat)"
   ]
  },
  {
   "cell_type": "code",
   "execution_count": 58,
   "metadata": {},
   "outputs": [
    {
     "name": "stdout",
     "output_type": "stream",
     "text": [
      "AUC Score 0.6787710232169517\n"
     ]
    }
   ],
   "source": [
    "# AUC Score for the fitted pipeline for test data\n",
    "\n",
    "print(\"AUC Score\", evaluator.evaluate(pred_dtt))"
   ]
  },
  {
   "cell_type": "code",
   "execution_count": 59,
   "metadata": {},
   "outputs": [
    {
     "data": {
      "text/plain": [
       "{Param(parent='DecisionTreeClassifier_90801e1fc7bf', name='cacheNodeIds', doc='If false, the algorithm will pass trees to executors to match instances with nodes. If true, the algorithm will cache node IDs for each instance. Caching can speed up training of deeper trees.'): False,\n",
       " Param(parent='DecisionTreeClassifier_90801e1fc7bf', name='checkpointInterval', doc='set checkpoint interval (>= 1) or disable checkpoint (-1). E.g. 10 means that the cache will get checkpointed every 10 iterations. Note: this setting will be ignored if the checkpoint directory is not set in the SparkContext'): 10,\n",
       " Param(parent='DecisionTreeClassifier_90801e1fc7bf', name='featuresCol', doc='features column name'): 'features',\n",
       " Param(parent='DecisionTreeClassifier_90801e1fc7bf', name='impurity', doc='Criterion used for information gain calculation (case-insensitive). Supported options: entropy, gini'): 'gini',\n",
       " Param(parent='DecisionTreeClassifier_90801e1fc7bf', name='labelCol', doc='label column name'): 'label',\n",
       " Param(parent='DecisionTreeClassifier_90801e1fc7bf', name='maxBins', doc='Max number of bins for discretizing continuous features.  Must be >=2 and >= number of categories for any categorical feature.'): 50,\n",
       " Param(parent='DecisionTreeClassifier_90801e1fc7bf', name='maxDepth', doc='Maximum depth of the tree. (>= 0) E.g., depth 0 means 1 leaf node; depth 1 means 1 internal node + 2 leaf nodes.'): 5,\n",
       " Param(parent='DecisionTreeClassifier_90801e1fc7bf', name='maxMemoryInMB', doc='Maximum memory in MB allocated to histogram aggregation.'): 256,\n",
       " Param(parent='DecisionTreeClassifier_90801e1fc7bf', name='minInfoGain', doc='Minimum information gain for a split to be considered at a tree node.'): 0.0,\n",
       " Param(parent='DecisionTreeClassifier_90801e1fc7bf', name='minInstancesPerNode', doc='Minimum number of instances each child must have after split.  If a split causes the left or right child to have fewer than minInstancesPerNode, the split will be discarded as invalid. Should be >= 1.'): 1,\n",
       " Param(parent='DecisionTreeClassifier_90801e1fc7bf', name='predictionCol', doc='prediction column name'): 'prediction',\n",
       " Param(parent='DecisionTreeClassifier_90801e1fc7bf', name='probabilityCol', doc='Column name for predicted class conditional probabilities. Note: Not all models output well-calibrated probability estimates! These probabilities should be treated as confidences, not precise probabilities'): 'probability',\n",
       " Param(parent='DecisionTreeClassifier_90801e1fc7bf', name='rawPredictionCol', doc='raw prediction (a.k.a. confidence) column name'): 'rawPrediction',\n",
       " Param(parent='DecisionTreeClassifier_90801e1fc7bf', name='seed', doc='random seed'): 42}"
      ]
     },
     "execution_count": 59,
     "metadata": {},
     "output_type": "execute_result"
    }
   ],
   "source": [
    "# Best Model Hyper parameters for the DT Grid Search Model\n",
    "\n",
    "dtModel_t.bestModel.stages[-1].extractParamMap()"
   ]
  },
  {
   "cell_type": "code",
   "execution_count": 60,
   "metadata": {},
   "outputs": [],
   "source": [
    "# Prediction output from the model to pandas\n",
    "\n",
    "prediction_dtbt=pred_dtt.toPandas()[\"prediction\"]"
   ]
  },
  {
   "cell_type": "code",
   "execution_count": 61,
   "metadata": {},
   "outputs": [],
   "source": [
    "# True Labels from test data for Target Variable\n",
    "\n",
    "true_labels=us_test_cat.toPandas()[\"Severity\"]"
   ]
  },
  {
   "cell_type": "code",
   "execution_count": 62,
   "metadata": {},
   "outputs": [],
   "source": [
    "# Initializing Classification Report from sklearn\n",
    "\n",
    "from sklearn.metrics import classification_report"
   ]
  },
  {
   "cell_type": "code",
   "execution_count": 63,
   "metadata": {},
   "outputs": [
    {
     "name": "stdout",
     "output_type": "stream",
     "text": [
      "              precision    recall  f1-score   support\n",
      "\n",
      "           0       0.87      0.58      0.70    131571\n",
      "           1       0.49      0.82      0.61     64408\n",
      "\n",
      "   micro avg       0.66      0.66      0.66    195979\n",
      "   macro avg       0.68      0.70      0.65    195979\n",
      "weighted avg       0.74      0.66      0.67    195979\n",
      "\n"
     ]
    }
   ],
   "source": [
    "# Classification Report Generation for all metrics display at once\n",
    "\n",
    "print(classification_report(y_pred=prediction_dtbt,y_true=true_labels))"
   ]
  },
  {
   "cell_type": "code",
   "execution_count": 64,
   "metadata": {},
   "outputs": [],
   "source": [
    "pred_dt = dtModel_t.transform(us_test_cat)"
   ]
  },
  {
   "cell_type": "code",
   "execution_count": 65,
   "metadata": {},
   "outputs": [
    {
     "data": {
      "text/plain": [
       "0.6599992856377469"
      ]
     },
     "execution_count": 65,
     "metadata": {},
     "output_type": "execute_result"
    }
   ],
   "source": [
    "binary_prediction=pred_dt.select(\"prediction\").collect()\n",
    "\n",
    "binary_true_labels=us_test_cat.select(\"Severity\").collect()\n",
    "\n",
    "np.sum(list([int(binary_true_labels[i][0]==binary_prediction[i][0]) for i in range(len(true_labels))]))/len(true_labels)"
   ]
  },
  {
   "cell_type": "code",
   "execution_count": 66,
   "metadata": {},
   "outputs": [],
   "source": [
    "# Creating Pandas Dataframe for Features and their Importance of DT Grid Model for Binary Classification\n",
    "\n",
    "pd.set_option('display.max_rows', None)\n",
    "feat_imp_tuned_dtbt= pd.DataFrame(list(zip([i for i in us_train_cat.columns if i!='Severity'], dtModel_t.bestModel.stages[-1].featureImportances)),\n",
    "            columns = ['column', 'weight']).sort_values('weight',ascending=False)"
   ]
  },
  {
   "cell_type": "code",
   "execution_count": 67,
   "metadata": {},
   "outputs": [
    {
     "data": {
      "text/plain": [
       "Text(0.5,1,'Top 10 Features based on Importance from DT Binary Grid Model')"
      ]
     },
     "execution_count": 67,
     "metadata": {},
     "output_type": "execute_result"
    },
    {
     "data": {
      "image/png": "[encoded data removed]",
      "text/plain": [
       "<matplotlib.figure.Figure at 0x1bfcb49ef98>"
      ]
     },
     "metadata": {},
     "output_type": "display_data"
    }
   ],
   "source": [
    "# Plotting top 10 Features from Feature Importance of DT Grid Model for Binary Classification\n",
    "\n",
    "plt.figure(figsize=(10,10))\n",
    "sns.barplot(x=feat_imp_tuned_dtbt['column'][:10], y=feat_imp_tuned_dtbt['weight'][:10],data=feat_imp_tuned_dtbt)\n",
    "plt.xticks(rotation=90)\n",
    "plt.xlabel(\"Features\")\n",
    "plt.ylabel(\"Weights\")\n",
    "plt.title(\"Top 10 Features based on Importance from DT Binary Grid Model\")"
   ]
  },
  {
   "cell_type": "markdown",
   "metadata": {},
   "source": [
    "# Logistic Regression "
   ]
  },
  {
   "cell_type": "markdown",
   "metadata": {},
   "source": [
    "# Logistic Base Model Binary"
   ]
  },
  {
   "cell_type": "code",
   "execution_count": 68,
   "metadata": {},
   "outputs": [],
   "source": [
    "us_train_cat = spark.read.csv(get_training_filename('USAccident_balanced_train_binary_OHE.csv'), header = True, inferSchema = True)"
   ]
  },
  {
   "cell_type": "code",
   "execution_count": 69,
   "metadata": {},
   "outputs": [],
   "source": [
    "us_test_cat = spark.read.csv(get_training_filename('USAccident_validation_OHE.csv'), header = True, inferSchema = True)"
   ]
  },
  {
   "cell_type": "code",
   "execution_count": 70,
   "metadata": {},
   "outputs": [],
   "source": [
    "us_test_cat=us_test_cat.withColumn(\"Severity\",when(((us_test_cat[\"Severity\"]==4) | (us_test_cat[\"Severity\"]==3)),1).otherwise(0))"
   ]
  },
  {
   "cell_type": "code",
   "execution_count": 71,
   "metadata": {},
   "outputs": [],
   "source": [
    "us_train_cat=us_train_cat.drop(\"hour_day\",\"week_of_year\")"
   ]
  },
  {
   "cell_type": "code",
   "execution_count": 72,
   "metadata": {},
   "outputs": [],
   "source": [
    "# Standard Scaler to standardize the output of vector assembler before feeding it to Logistic Regression\n",
    "\n",
    "center = feature.StandardScaler(withMean=True, withStd=False, inputCol='features', outputCol='centered_features')"
   ]
  },
  {
   "cell_type": "code",
   "execution_count": 73,
   "metadata": {},
   "outputs": [],
   "source": [
    "# Vector Assembler to convert all features except Severity to a single column features for feeding it to input of model\n",
    "\n",
    "va = VectorAssembler().setInputCols([i for i in us_train_cat.columns if i!='Severity']).setOutputCol('features')\n",
    "\n",
    "\n",
    "# String Indexer to assign target Variable Severity name Label needed for the model to predict\n",
    "\n",
    "label_stringIdx = StringIndexer(inputCol=\"Severity\", outputCol=\"label\")"
   ]
  },
  {
   "cell_type": "code",
   "execution_count": 74,
   "metadata": {},
   "outputs": [],
   "source": [
    "# Create initial LogisticRegression model\n",
    "lr = LogisticRegression(labelCol=\"label\", featuresCol=\"centered_features\")\n",
    "\n",
    "# Pipeline for training data \n",
    "\n",
    "lrModel = Pipeline(stages=[label_stringIdx,va, center, lr])\n",
    "\n",
    "# Fit the train data using LR model\n",
    "\n",
    "lr_fit = lrModel.fit(us_train_cat)"
   ]
  },
  {
   "cell_type": "code",
   "execution_count": 75,
   "metadata": {},
   "outputs": [],
   "source": [
    "# Transsform test data to predict Severity by using fitted pipeline from training data\n",
    "\n",
    "pred_lrb = lr_fit.transform(us_test_cat)"
   ]
  },
  {
   "cell_type": "code",
   "execution_count": 76,
   "metadata": {},
   "outputs": [
    {
     "data": {
      "image/png": "[encoded data removed]",
      "text/plain": [
       "<matplotlib.figure.Figure at 0x1bfc73e72e8>"
      ]
     },
     "metadata": {},
     "output_type": "display_data"
    },
    {
     "name": "stdout",
     "output_type": "stream",
     "text": [
      "Training set areaUnderROC: 0.7616892787379583\n"
     ]
    }
   ],
   "source": [
    "# ROC Curve for LR Base Model\n",
    "\n",
    "trainingSummary = lr_fit.stages[-1].summary\n",
    "roc = trainingSummary.roc.toPandas()\n",
    "plt.plot(roc['FPR'],roc['TPR'])\n",
    "plt.ylabel('False Positive Rate')\n",
    "plt.xlabel('True Positive Rate')\n",
    "plt.title('ROC Curve')\n",
    "plt.grid(True)\n",
    "plt.show()\n",
    "print('Training set areaUnderROC: ' + str(trainingSummary.areaUnderROC))"
   ]
  },
  {
   "cell_type": "code",
   "execution_count": 77,
   "metadata": {},
   "outputs": [],
   "source": [
    "# Logistic Regression Coefficients to Array \n",
    "\n",
    "coef_l1=lr_fit.stages[-1].coefficientMatrix.toArray()"
   ]
  },
  {
   "cell_type": "code",
   "execution_count": 78,
   "metadata": {},
   "outputs": [],
   "source": [
    "# to stack the coefficient array column wise for further analysis\n",
    "\n",
    "cof_l1=np.hstack(coef_l1)"
   ]
  },
  {
   "cell_type": "code",
   "execution_count": 79,
   "metadata": {},
   "outputs": [],
   "source": [
    "# Creating pandas dataframe with Logistic Regression weights for each variable along with variable name\n",
    "\n",
    "pd.set_option('display.max_rows', None)\n",
    "feat_imp_tuned_b = pd.DataFrame(list(zip([i for i in us_train_cat.columns if i!='Severity'], cof_l1)),\n",
    "            columns = ['column', 'weight']).sort_values('weight',ascending=False)"
   ]
  },
  {
   "cell_type": "code",
   "execution_count": 80,
   "metadata": {},
   "outputs": [],
   "source": [
    "# Coefficient from LR model for each variable\n",
    "\n",
    "coef_L1=lr_fit.stages[-1].coefficients.toArray()"
   ]
  },
  {
   "cell_type": "code",
   "execution_count": 81,
   "metadata": {},
   "outputs": [
    {
     "data": {
      "text/plain": [
       "array([ 8.32414716e-02,  4.01885638e-01,  6.06014319e-01,  4.06878587e-02,\n",
       "        1.39054365e-01,  7.03929433e-01,  2.64762270e-01,  6.42031187e-01,\n",
       "        3.01237660e-01,  8.07168543e-01,  6.80979735e-01,  3.43706679e-01,\n",
       "        3.51226413e-01,  3.58182197e-01,  2.95572524e-01,  3.74042119e-01,\n",
       "        1.83091789e-01,  7.44692552e-01,  4.37326137e-01,  3.42266997e-01,\n",
       "        8.16334031e-02,  4.97154012e-01,  2.02295143e-01,  4.12047632e-02,\n",
       "        5.34422141e-02, -1.70019642e-02,  2.70259376e-02,  1.84906022e+00,\n",
       "        6.54736535e-01,  8.21394557e-01, -2.86284680e-01,  4.35472054e-01,\n",
       "        1.17705434e+00,  8.18692241e+00, -3.71764933e-01,  1.46678435e+00,\n",
       "       -4.63816470e-01,  8.65245717e-01,  5.81592058e-01, -3.13552259e-01,\n",
       "        9.09807262e-01,  9.33719767e-01,  4.11795463e-01,  9.01476714e-01,\n",
       "       -4.91801998e-02,  1.87667250e+00,  9.38419001e-01,  5.90707067e-01,\n",
       "        5.22631700e-02,  1.40200378e-02,  3.17342220e-02, -5.48145319e-03,\n",
       "        6.97646738e-01,  7.16969742e-01,  3.25357257e-01,  9.61263821e-02,\n",
       "       -7.91867292e-02,  2.62363054e-01,  4.96866765e-02,  1.39159114e-01,\n",
       "        3.54664580e-03,  5.12105014e-02,  1.78327550e-01,  3.45482044e-01,\n",
       "        2.29318308e-01,  7.89286763e-02,  1.94602113e-02,  9.15537547e-03,\n",
       "       -3.65435250e-02,  2.02620790e-02,  2.82813436e-02,  7.16906767e-02,\n",
       "        1.48994945e-02,  7.12628908e-02,  8.88527073e-03,  2.93156659e-02,\n",
       "        2.63069630e-02,  4.10071743e-02,  6.76187556e-03,  4.08399577e-02,\n",
       "        5.72743949e-02, -6.20198341e-03, -1.51609441e+00, -2.86284680e-01,\n",
       "        3.05149227e-01,  1.22115152e-01,  1.15622930e-01, -5.28405676e-01,\n",
       "       -2.59004583e-01, -6.09579277e-02,  8.87048051e-02,  2.71917082e-01,\n",
       "       -6.65778035e-02,  4.28114851e-01,  2.60966191e-01,  3.98795857e-01,\n",
       "       -3.54724677e-01,  4.06315623e-02,  2.01850249e-01,  2.06261828e-01,\n",
       "        6.78898847e-01,  2.91956223e-01, -4.14351994e-03,  9.42381697e-05,\n",
       "        4.59846752e-02,  1.49604775e-02,  9.51116037e-03,  3.80774697e-02,\n",
       "       -7.17405647e-01,  1.09582925e-01, -6.85654779e-01,  2.70176800e-01,\n",
       "        1.91743186e-01,  2.17493596e-01,  2.05095585e-01, -1.41800147e+00,\n",
       "       -4.34765051e-01, -1.64583676e+00, -5.04062723e-01, -1.26530615e+00])"
      ]
     },
     "execution_count": 81,
     "metadata": {},
     "output_type": "execute_result"
    }
   ],
   "source": [
    "coef_L1"
   ]
  },
  {
   "cell_type": "code",
   "execution_count": 82,
   "metadata": {},
   "outputs": [
    {
     "name": "stdout",
     "output_type": "stream",
     "text": [
      "Total number of features are 120\n",
      "Eliminated features out of 120 are 0\n"
     ]
    }
   ],
   "source": [
    "# Taking absolute values of weights and calculating the number of features eliminated by LR Model after L1 regularization \n",
    "\n",
    "coef_L1 = np.absolute(coef_L1)\n",
    "\n",
    "print('Total number of features are',len(coef_L1))\n",
    "\n",
    "sorted_abs = np.sort(coef_L1)\n",
    "\n",
    "weights_notzero = sorted_abs[sorted_abs == 0]\n",
    "nonzero_weights = len(sorted_abs[sorted_abs == 0])\n",
    "\n",
    "print('Eliminated features out of ' + str(len(coef_L1)) + ' are', nonzero_weights)\n"
   ]
  },
  {
   "cell_type": "code",
   "execution_count": 83,
   "metadata": {},
   "outputs": [],
   "source": [
    "# Prediction output from the model to pandas\n",
    "\n",
    "prediction_lrbal=pred_lrb.toPandas()[\"prediction\"]"
   ]
  },
  {
   "cell_type": "code",
   "execution_count": 84,
   "metadata": {},
   "outputs": [],
   "source": [
    "# True Labels from test data for Target Variable\n",
    "\n",
    "true_labels=us_test_cat.toPandas()[\"Severity\"]"
   ]
  },
  {
   "cell_type": "code",
   "execution_count": 85,
   "metadata": {},
   "outputs": [],
   "source": [
    "# Initializing Classification Report from sklearn\n",
    "\n",
    "from sklearn.metrics import classification_report"
   ]
  },
  {
   "cell_type": "code",
   "execution_count": 86,
   "metadata": {},
   "outputs": [
    {
     "name": "stdout",
     "output_type": "stream",
     "text": [
      "              precision    recall  f1-score   support\n",
      "\n",
      "           0       0.85      0.63      0.72    131790\n",
      "           1       0.50      0.77      0.61     64610\n",
      "\n",
      "   micro avg       0.67      0.67      0.67    196400\n",
      "   macro avg       0.67      0.70      0.66    196400\n",
      "weighted avg       0.73      0.67      0.68    196400\n",
      "\n"
     ]
    }
   ],
   "source": [
    "# Classification Report Generation for all metrics display at once\n",
    "\n",
    "print(classification_report(y_pred=prediction_lrbal,y_true=true_labels))"
   ]
  },
  {
   "cell_type": "code",
   "execution_count": 89,
   "metadata": {},
   "outputs": [
    {
     "data": {
      "text/plain": [
       "0.6730702647657841"
      ]
     },
     "execution_count": 89,
     "metadata": {},
     "output_type": "execute_result"
    }
   ],
   "source": [
    "np.sum(list([int(true_labels[i]==prediction_lrbal[i]) for i in range(len(true_labels))]))/len(true_labels)"
   ]
  },
  {
   "cell_type": "markdown",
   "metadata": {},
   "source": [
    "# Logistic Binary Grid Search Binary"
   ]
  },
  {
   "cell_type": "code",
   "execution_count": 90,
   "metadata": {},
   "outputs": [],
   "source": [
    "# Logistic Regression Pipeline initialization\n",
    "\n",
    "lr_new = LogisticRegression(labelCol=\"label\", featuresCol=\"centered_features\")"
   ]
  },
  {
   "cell_type": "code",
   "execution_count": 91,
   "metadata": {},
   "outputs": [],
   "source": [
    "# Grid Search for tuning the hyper parameters of Logistic Regression Model\n",
    "\n",
    "paramGrid_lr = ParamGridBuilder().addGrid(lr_new.regParam, [0,0.1, 0.4,0.7]).addGrid(lr_new.elasticNetParam, [0.1,0.4,0.7]).build()"
   ]
  },
  {
   "cell_type": "code",
   "execution_count": 92,
   "metadata": {},
   "outputs": [],
   "source": [
    "# Creating pipeline to be used for fitting the training data\n",
    "\n",
    "cvModel_lrbal = Pipeline(stages=[label_stringIdx,va,center,lr_new])"
   ]
  },
  {
   "cell_type": "code",
   "execution_count": 93,
   "metadata": {},
   "outputs": [],
   "source": [
    "# Initializing Binary Evaluator for evaluating the model performance\n",
    "\n",
    "evaluator_lrbt = BinaryClassificationEvaluator(labelCol='label',metricName='areaUnderROC')"
   ]
  },
  {
   "cell_type": "code",
   "execution_count": 94,
   "metadata": {},
   "outputs": [],
   "source": [
    "# Cross validator pipeline initialization for 5-fold cross validation and fitting the train data\n",
    "\n",
    "cv_lrbal = CrossValidator(estimator=cvModel_lrbal, estimatorParamMaps=paramGrid_lr, evaluator=evaluator_lrbt, numFolds=5,seed=42).fit(us_train_cat)"
   ]
  },
  {
   "cell_type": "code",
   "execution_count": 95,
   "metadata": {},
   "outputs": [],
   "source": [
    "# Testing the test data on fitted 5 fold cv pipeline\n",
    "\n",
    "pred_lrbalt=cv_lrbal.transform(us_test_cat)"
   ]
  },
  {
   "cell_type": "code",
   "execution_count": 96,
   "metadata": {},
   "outputs": [
    {
     "data": {
      "image/png": "[encoded data removed]",
      "text/plain": [
       "<matplotlib.figure.Figure at 0x1bfcb603748>"
      ]
     },
     "metadata": {},
     "output_type": "display_data"
    },
    {
     "name": "stdout",
     "output_type": "stream",
     "text": [
      "Training set areaUnderROC: 0.761683026335512\n"
     ]
    }
   ],
   "source": [
    "# ROC Curve for Logistic Regression Grid Search Model\n",
    "\n",
    "trainingSummary_t = cv_lrbal.bestModel.stages[-1].summary\n",
    "roc = trainingSummary_t.roc.toPandas()\n",
    "plt.plot(roc['FPR'],roc['TPR'])\n",
    "plt.ylabel('False Positive Rate')\n",
    "plt.xlabel('True Positive Rate')\n",
    "plt.title('ROC Curve')\n",
    "plt.grid(True)\n",
    "plt.show()\n",
    "print('Training set areaUnderROC: ' + str(trainingSummary_t.areaUnderROC))"
   ]
  },
  {
   "cell_type": "code",
   "execution_count": 97,
   "metadata": {},
   "outputs": [
    {
     "data": {
      "text/plain": [
       "{Param(parent='LogisticRegression_a1e53c0ffa48', name='aggregationDepth', doc='suggested depth for treeAggregate (>= 2)'): 2,\n",
       " Param(parent='LogisticRegression_a1e53c0ffa48', name='elasticNetParam', doc='the ElasticNet mixing parameter, in range [0, 1]. For alpha = 0, the penalty is an L2 penalty. For alpha = 1, it is an L1 penalty'): 0.4,\n",
       " Param(parent='LogisticRegression_a1e53c0ffa48', name='family', doc='The name of family which is a description of the label distribution to be used in the model. Supported options: auto, binomial, multinomial.'): 'auto',\n",
       " Param(parent='LogisticRegression_a1e53c0ffa48', name='featuresCol', doc='features column name'): 'centered_features',\n",
       " Param(parent='LogisticRegression_a1e53c0ffa48', name='fitIntercept', doc='whether to fit an intercept term'): True,\n",
       " Param(parent='LogisticRegression_a1e53c0ffa48', name='labelCol', doc='label column name'): 'label',\n",
       " Param(parent='LogisticRegression_a1e53c0ffa48', name='maxIter', doc='maximum number of iterations (>= 0)'): 100,\n",
       " Param(parent='LogisticRegression_a1e53c0ffa48', name='predictionCol', doc='prediction column name'): 'prediction',\n",
       " Param(parent='LogisticRegression_a1e53c0ffa48', name='probabilityCol', doc='Column name for predicted class conditional probabilities. Note: Not all models output well-calibrated probability estimates! These probabilities should be treated as confidences, not precise probabilities'): 'probability',\n",
       " Param(parent='LogisticRegression_a1e53c0ffa48', name='rawPredictionCol', doc='raw prediction (a.k.a. confidence) column name'): 'rawPrediction',\n",
       " Param(parent='LogisticRegression_a1e53c0ffa48', name='regParam', doc='regularization parameter (>= 0)'): 0.0,\n",
       " Param(parent='LogisticRegression_a1e53c0ffa48', name='standardization', doc='whether to standardize the training features before fitting the model'): True,\n",
       " Param(parent='LogisticRegression_a1e53c0ffa48', name='threshold', doc='threshold in binary classification prediction, in range [0, 1]'): 0.5,\n",
       " Param(parent='LogisticRegression_a1e53c0ffa48', name='tol', doc='the convergence tolerance for iterative algorithms (>= 0)'): 1e-06}"
      ]
     },
     "execution_count": 97,
     "metadata": {},
     "output_type": "execute_result"
    }
   ],
   "source": [
    "# Best Model Hyper parameters after Tuning LR Model\n",
    "\n",
    "cv_lrbal.bestModel.stages[-1].extractParamMap()"
   ]
  },
  {
   "cell_type": "code",
   "execution_count": 98,
   "metadata": {},
   "outputs": [
    {
     "data": {
      "text/plain": [
       "0.6730702647657841"
      ]
     },
     "execution_count": 98,
     "metadata": {},
     "output_type": "execute_result"
    }
   ],
   "source": [
    "# Accuracy Calculation for the test data from the model\n",
    "\n",
    "binary_prediction=pred_lrbalt.select(\"prediction\").collect()\n",
    "\n",
    "binary_true_labels=us_test_cat.select(\"Severity\").collect()\n",
    "\n",
    "np.sum(list([int(binary_true_labels[i][0]==binary_prediction[i][0]) for i in range(len(true_labels))]))/len(true_labels)"
   ]
  },
  {
   "cell_type": "code",
   "execution_count": 99,
   "metadata": {},
   "outputs": [],
   "source": [
    "# Prediction output from the model to pandas\n",
    "\n",
    "prediction_lrbalt=pred_lrbalt.toPandas()[\"prediction\"]"
   ]
  },
  {
   "cell_type": "code",
   "execution_count": 100,
   "metadata": {},
   "outputs": [],
   "source": [
    "# True Labels from test data for Target Variable\n",
    "\n",
    "true_labels=us_test_cat.toPandas()[\"Severity\"]"
   ]
  },
  {
   "cell_type": "code",
   "execution_count": 101,
   "metadata": {},
   "outputs": [],
   "source": [
    "# Initializing Classification Report from sklearn\n",
    "\n",
    "from sklearn.metrics import classification_report"
   ]
  },
  {
   "cell_type": "code",
   "execution_count": 102,
   "metadata": {},
   "outputs": [
    {
     "name": "stdout",
     "output_type": "stream",
     "text": [
      "              precision    recall  f1-score   support\n",
      "\n",
      "           0       0.85      0.63      0.72    131790\n",
      "           1       0.50      0.77      0.61     64610\n",
      "\n",
      "   micro avg       0.67      0.67      0.67    196400\n",
      "   macro avg       0.67      0.70      0.66    196400\n",
      "weighted avg       0.73      0.67      0.68    196400\n",
      "\n"
     ]
    }
   ],
   "source": [
    "# Classification Report Generation for all metrics display at once\n",
    "\n",
    "print(classification_report(y_pred=prediction_lrbalt,y_true=true_labels))"
   ]
  },
  {
   "cell_type": "code",
   "execution_count": 103,
   "metadata": {},
   "outputs": [],
   "source": [
    "# Coefficient from LR model for each variable\n",
    "\n",
    "coef_L1_m=cv_lrbal.bestModel.stages[-1].coefficients.toArray()"
   ]
  },
  {
   "cell_type": "code",
   "execution_count": 104,
   "metadata": {},
   "outputs": [
    {
     "data": {
      "text/plain": [
       "array([ 8.32414716e-02,  4.01885638e-01,  6.06014319e-01,  4.06878588e-02,\n",
       "        1.39054365e-01,  7.03929433e-01,  2.64762270e-01,  6.42031186e-01,\n",
       "        3.01237660e-01,  8.07168543e-01,  6.80979735e-01,  3.43706679e-01,\n",
       "        3.51226413e-01,  3.58182197e-01,  2.95572524e-01,  3.74042119e-01,\n",
       "        1.83091789e-01,  7.44692551e-01,  4.37326137e-01,  3.42266997e-01,\n",
       "        8.16334031e-02,  4.97154012e-01,  2.02295143e-01,  4.12047631e-02,\n",
       "        5.34422144e-02, -1.70019635e-02,  2.70259371e-02,  1.84906022e+00,\n",
       "        6.54736535e-01,  8.21394557e-01, -2.86284679e-01,  4.35472054e-01,\n",
       "        1.17705434e+00,  8.18692168e+00, -3.71764933e-01,  1.46678435e+00,\n",
       "       -4.63816470e-01,  8.65245717e-01,  5.81592059e-01, -3.13552259e-01,\n",
       "        9.09807262e-01,  9.33719767e-01,  4.11795464e-01,  9.01476714e-01,\n",
       "       -4.91801997e-02,  1.87667250e+00,  9.38419001e-01,  5.90707067e-01,\n",
       "        5.22631699e-02,  1.40200378e-02,  3.17342220e-02, -5.48145326e-03,\n",
       "        6.97646738e-01,  7.16969742e-01,  3.25357258e-01,  9.61263822e-02,\n",
       "       -7.91867291e-02,  2.62363055e-01,  4.96866766e-02,  1.39159115e-01,\n",
       "        3.54664590e-03,  5.12105015e-02,  1.78327550e-01,  3.45482044e-01,\n",
       "        2.29318308e-01,  7.89286762e-02,  1.94602112e-02,  9.15537538e-03,\n",
       "       -3.65435251e-02,  2.02620789e-02,  2.82813435e-02,  7.16906765e-02,\n",
       "        1.48994944e-02,  7.12628907e-02,  8.88527063e-03,  2.93156658e-02,\n",
       "        2.63069629e-02,  4.10071742e-02,  6.76187543e-03,  4.08399576e-02,\n",
       "        5.72743948e-02, -6.20198354e-03, -1.51609441e+00, -2.86284679e-01,\n",
       "        3.05149227e-01,  1.22115152e-01,  1.15622930e-01, -5.28405677e-01,\n",
       "       -2.59004582e-01, -6.09579272e-02,  8.87048055e-02,  2.71917082e-01,\n",
       "       -6.65778032e-02,  4.28114850e-01,  2.60966191e-01,  3.98795856e-01,\n",
       "       -3.54724676e-01,  4.06315625e-02,  2.01850249e-01,  2.06261828e-01,\n",
       "        6.78898846e-01,  2.91956223e-01, -4.14351994e-03,  9.42381657e-05,\n",
       "        4.59846752e-02,  1.49604775e-02,  9.51116037e-03,  3.80774697e-02,\n",
       "       -7.17405646e-01,  1.09582926e-01, -6.85654779e-01,  2.70176800e-01,\n",
       "        1.91743186e-01,  2.17493596e-01,  2.05095585e-01, -1.41800147e+00,\n",
       "       -4.34765051e-01, -1.64583676e+00, -5.04062722e-01, -1.26530615e+00])"
      ]
     },
     "execution_count": 104,
     "metadata": {},
     "output_type": "execute_result"
    }
   ],
   "source": [
    "coef_L1_m"
   ]
  },
  {
   "cell_type": "code",
   "execution_count": 105,
   "metadata": {},
   "outputs": [],
   "source": [
    "# Pandas dataframe of weights of variables with variable names to find which variables are eliminated\n",
    "\n",
    "feat_imp_tuned_lrt = pd.DataFrame(list(zip([i for i in us_train_cat.columns if i!='Severity'], np.absolute(coef_L1_m))),\n",
    "            columns = ['column', 'weight']).sort_values('weight')"
   ]
  },
  {
   "cell_type": "code",
   "execution_count": 106,
   "metadata": {},
   "outputs": [
    {
     "data": {
      "text/html": [
       "<div>\n",
       "<style scoped>\n",
       "    .dataframe tbody tr th:only-of-type {\n",
       "        vertical-align: middle;\n",
       "    }\n",
       "\n",
       "    .dataframe tbody tr th {\n",
       "        vertical-align: top;\n",
       "    }\n",
       "\n",
       "    .dataframe thead th {\n",
       "        text-align: right;\n",
       "    }\n",
       "</style>\n",
       "<table border=\"1\" class=\"dataframe\">\n",
       "  <thead>\n",
       "    <tr style=\"text-align: right;\">\n",
       "      <th></th>\n",
       "      <th>column</th>\n",
       "      <th>weight</th>\n",
       "    </tr>\n",
       "  </thead>\n",
       "  <tbody>\n",
       "    <tr>\n",
       "      <th>103</th>\n",
       "      <td>Humidity</td>\n",
       "      <td>0.000094</td>\n",
       "    </tr>\n",
       "    <tr>\n",
       "      <th>60</th>\n",
       "      <td>month_of_year_Index_2</td>\n",
       "      <td>0.003547</td>\n",
       "    </tr>\n",
       "    <tr>\n",
       "      <th>102</th>\n",
       "      <td>Temperature</td>\n",
       "      <td>0.004144</td>\n",
       "    </tr>\n",
       "    <tr>\n",
       "      <th>51</th>\n",
       "      <td>day_of_week_Index_2</td>\n",
       "      <td>0.005481</td>\n",
       "    </tr>\n",
       "    <tr>\n",
       "      <th>81</th>\n",
       "      <td>Wind_Direction_Index_12</td>\n",
       "      <td>0.006202</td>\n",
       "    </tr>\n",
       "    <tr>\n",
       "      <th>78</th>\n",
       "      <td>Wind_Direction_Index_15</td>\n",
       "      <td>0.006762</td>\n",
       "    </tr>\n",
       "    <tr>\n",
       "      <th>74</th>\n",
       "      <td>Wind_Direction_Index_10</td>\n",
       "      <td>0.008885</td>\n",
       "    </tr>\n",
       "    <tr>\n",
       "      <th>67</th>\n",
       "      <td>Wind_Direction_Index_1</td>\n",
       "      <td>0.009155</td>\n",
       "    </tr>\n",
       "    <tr>\n",
       "      <th>106</th>\n",
       "      <td>Wind_Speed</td>\n",
       "      <td>0.009511</td>\n",
       "    </tr>\n",
       "    <tr>\n",
       "      <th>49</th>\n",
       "      <td>day_of_week_Index_4</td>\n",
       "      <td>0.014020</td>\n",
       "    </tr>\n",
       "  </tbody>\n",
       "</table>\n",
       "</div>"
      ],
      "text/plain": [
       "                      column    weight\n",
       "103                 Humidity  0.000094\n",
       "60     month_of_year_Index_2  0.003547\n",
       "102              Temperature  0.004144\n",
       "51       day_of_week_Index_2  0.005481\n",
       "81   Wind_Direction_Index_12  0.006202\n",
       "78   Wind_Direction_Index_15  0.006762\n",
       "74   Wind_Direction_Index_10  0.008885\n",
       "67    Wind_Direction_Index_1  0.009155\n",
       "106               Wind_Speed  0.009511\n",
       "49       day_of_week_Index_4  0.014020"
      ]
     },
     "execution_count": 106,
     "metadata": {},
     "output_type": "execute_result"
    }
   ],
   "source": [
    "# Sample of 10 features eliminated by the Logistic Regression Model after L1 Regularization\n",
    "\n",
    "feat_imp_tuned_lrt[:10]"
   ]
  },
  {
   "cell_type": "code",
   "execution_count": 107,
   "metadata": {},
   "outputs": [
    {
     "name": "stdout",
     "output_type": "stream",
     "text": [
      "Total number of features are 120\n",
      "Eliminated features out of 120 are 0\n"
     ]
    }
   ],
   "source": [
    "# Taking absolute values of weights and calculating the number of features eliminated by LR Model after L1 regularization \n",
    "\n",
    "coef_L1_m = np.absolute(coef_L1_m)\n",
    "\n",
    "print('Total number of features are',len(coef_L1_m))\n",
    "\n",
    "sorted_abs = np.sort(coef_L1_m)\n",
    "\n",
    "weights_notzero = sorted_abs[sorted_abs == 0]\n",
    "nonzero_weights = len(sorted_abs[sorted_abs == 0])\n",
    "\n",
    "print('Eliminated features out of ' + str(len(coef_L1_m)) + ' are', len(weights_notzero))"
   ]
  }
 ],
 "metadata": {
  "kernelspec": {
   "display_name": "Python 3",
   "language": "python",
   "name": "python3"
  },
  "language_info": {
   "codemirror_mode": {
    "name": "ipython",
    "version": 3
   },
   "file_extension": ".py",
   "mimetype": "text/x-python",
   "name": "python",
   "nbconvert_exporter": "python",
   "pygments_lexer": "ipython3",
   "version": "3.5.4"
  },
  "latex_envs": {
   "LaTeX_envs_menu_present": true,
   "autoclose": false,
   "autocomplete": true,
   "bibliofile": "biblio.bib",
   "cite_by": "apalike",
   "current_citInitial": 1,
   "eqLabelWithNumbers": true,
   "eqNumInitial": 1,
   "hotkeys": {
    "equation": "Ctrl-E",
    "itemize": "Ctrl-I"
   },
   "labels_anchors": false,
   "latex_user_defs": false,
   "report_style_numbering": false,
   "user_envs_cfg": false
  }
 },
 "nbformat": 4,
 "nbformat_minor": 2
}
